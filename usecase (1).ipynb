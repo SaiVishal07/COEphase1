{
 "cells": [
  {
   "cell_type": "code",
   "execution_count": 1,
   "id": "2735ec5d-07e3-4ad1-a014-b0650c8afa79",
   "metadata": {},
   "outputs": [
    {
     "name": "stdin",
     "output_type": "stream",
     "text": [
      "Enter your internal marks 60\n",
      "Enter your external marks 70\n",
      "Enter your proj marks 85\n"
     ]
    }
   ],
   "source": [
    "p=int(input(\"Enter your internal marks\"))\n",
    "q=int(input(\"Enter your external marks\"))\n",
    "r=int(input(\"Enter your proj marks\"))"
   ]
  },
  {
   "cell_type": "code",
   "execution_count": 7,
   "id": "75198cde-5e25-4009-a90d-1e6522712ce5",
   "metadata": {},
   "outputs": [
    {
     "name": "stdout",
     "output_type": "stream",
     "text": [
      "150.5\n",
      "A\n"
     ]
    }
   ],
   "source": [
    "if p>=50 and q>=50 and r>=50:\n",
    "    total=(r*70)/100+(q*70)/100+(p*70)/100\n",
    "print(total)\n",
    "\n",
    "if total>=90:\n",
    "    print(\"A\")\n",
    "elif total>=70:\n",
    "    print(\"B\")\n",
    "else:\n",
    "    print(\"C\")"
   ]
  },
  {
   "cell_type": "code",
   "execution_count": null,
   "id": "af0bb5b7-5371-406f-bc6c-45f2302b56b3",
   "metadata": {},
   "outputs": [],
   "source": [
    "\n",
    "if units<=50:\n",
    "    units=units*0.50\n",
    "elif units>50:\n",
    "    units=units*0.50+units*0.75\n",
    "elif units>"
   ]
  },
  {
   "cell_type": "code",
   "execution_count": null,
   "id": "77a4ff63-9c9e-4c7f-9e5f-47f5e8bbdfaa",
   "metadata": {},
   "outputs": [],
   "source": []
  },
  {
   "cell_type": "code",
   "execution_count": 5,
   "id": "30a7b1d9-5d7b-4ede-83b2-bfed4695f690",
   "metadata": {},
   "outputs": [
    {
     "name": "stdin",
     "output_type": "stream",
     "text": [
      "Enter Prev units 1000\n",
      "Enter Pres units 2000\n"
     ]
    },
    {
     "data": {
      "text/plain": [
       "2478.0"
      ]
     },
     "execution_count": 5,
     "metadata": {},
     "output_type": "execute_result"
    }
   ],
   "source": [
    "prev=int(input(\"Enter Prev units\"))\n",
    "\n",
    "pres=int(input(\"Enter Pres units\"))\n",
    " \n",
    "units=pres-prev   \n",
    "\n",
    "bill=0\n",
    "\n",
    "if units<=50:\n",
    "\n",
    "    bill=units*0.50\n",
    "\n",
    "elif units<=150:\n",
    "\n",
    "    bill= 50*0.50+(units-50)*0.75\n",
    "\n",
    "elif units<=250:\n",
    "\n",
    "    bill=50*0.50+(100*0.75)+(units-150)*1.25\n",
    "\n",
    "else:\n",
    "\n",
    "    bill=50*0.50+(100*0.75)+(100*1.25)+(units-250)*2.50\n",
    " \n",
    " \n",
    "bill=bill+(bill*18)/100\n",
    "bill"
   ]
  },
  {
   "cell_type": "code",
   "execution_count": 7,
   "id": "31cb9be9-5001-43f1-8689-6dfb5499eddd",
   "metadata": {},
   "outputs": [
    {
     "data": {
      "text/plain": [
       "1000"
      ]
     },
     "execution_count": 7,
     "metadata": {},
     "output_type": "execute_result"
    }
   ],
   "source": [
    "units"
   ]
  },
  {
   "cell_type": "code",
   "execution_count": null,
   "id": "5ed4fc96-265c-4395-8ba2-061c96e434e9",
   "metadata": {},
   "outputs": [],
   "source": []
  },
  {
   "cell_type": "code",
   "execution_count": 10,
   "id": "0a119760-85e9-48ca-8d56-2d6203e7a3db",
   "metadata": {},
   "outputs": [
    {
     "ename": "SyntaxError",
     "evalue": "invalid character '–' (U+2013) (2224916738.py, line 1)",
     "output_type": "error",
     "traceback": [
      "\u001b[1;36m  Cell \u001b[1;32mIn[10], line 1\u001b[1;36m\u001b[0m\n\u001b[1;33m    1. Food – Smart Restaurant Billing with Meal Plans\u001b[0m\n\u001b[1;37m            ^\u001b[0m\n\u001b[1;31mSyntaxError\u001b[0m\u001b[1;31m:\u001b[0m invalid character '–' (U+2013)\n"
     ]
    }
   ],
   "source": [
    "1. Food – Smart Restaurant Billing with Meal Plans\n",
    "\n",
    "Scenario:\n",
    "\n",
    "A restaurant offers multiple meal plans (Veg, Non-Veg, Combo) and discounts on festivals.\n",
    " \n",
    "Requirements:\n",
    " \n",
    "Take user input: meal type, quantity, is today a festival (yes/no)\n",
    " \n",
    "Pricing:\n",
    " \n",
    "Veg: ₹150\n",
    " \n",
    "Non-Veg: ₹200\n",
    " \n",
    "Combo: ₹300\n",
    " \n",
    "Festival day → 10% discount\n",
    " \n",
    "If total bill > ₹1000 → add free dessert\n",
    " \n",
    "Add 5% GST on total\n",
    "\n",
    " "
   ]
  },
  {
   "cell_type": "code",
   "execution_count": 23,
   "id": "ae963853-a241-4c43-beb0-5f8f0d5a9674",
   "metadata": {},
   "outputs": [
    {
     "name": "stdin",
     "output_type": "stream",
     "text": [
      "Enter your meal type (veg or non veg or combo) veg\n",
      "Yes or No yes\n",
      "Enter the quantity you want 2\n"
     ]
    }
   ],
   "source": [
    "veg=150\n",
    "nonveg=200\n",
    "combo=300\n",
    "a=input(\"Enter your meal type (veg or non veg or combo)\")\n",
    "festival=input(\"Yes or No\")\n",
    "quantity=int(input(\"Enter the quantity you want\"))\n",
    "price=a*quantity\n",
    "\n",
    "price"
   ]
  },
  {
   "cell_type": "code",
   "execution_count": 39,
   "id": "f5399f28-35bb-474d-8e88-505b6057a63e",
   "metadata": {},
   "outputs": [
    {
     "name": "stdin",
     "output_type": "stream",
     "text": [
      "Enter your meal type (veg or non veg or combo) veg\n",
      "Yes or No Yes\n",
      "Enter the quantity you want 3\n"
     ]
    },
    {
     "name": "stdout",
     "output_type": "stream",
     "text": [
      "472.5\n"
     ]
    }
   ],
   "source": [
    "a=input(\"Enter your meal type (veg or non veg or combo)\")\n",
    "festival=input(\"Yes or No\")\n",
    "quantity=int(input(\"Enter the quantity you want\"))\n",
    "\n",
    "if festival==\"yes\":\n",
    "    if(a==\"veg\"):\n",
    "        price=0.9*150*quantity\n",
    "    elif(a=='nonveg'):\n",
    "        price=0.9*200*quantity\n",
    "    else:\n",
    "        price=0.9*300*quantity\n",
    "\n",
    "else:\n",
    "    if(a==\"veg\"):\n",
    "        price=150*quantity\n",
    "    elif(a=='nonveg'):\n",
    "        price=200*quantity\n",
    "    else:\n",
    "        price=300*quantity\n",
    "tax=price*0.05\n",
    "price=tax+price\n",
    "print(price)\n",
    "    \n",
    "   \n",
    "    "
   ]
  },
  {
   "cell_type": "code",
   "execution_count": 29,
   "id": "e5b96b01-566c-47ce-8088-2567c6c24ade",
   "metadata": {},
   "outputs": [
    {
     "ename": "TypeError",
     "evalue": "Kernel.raw_input() takes from 1 to 2 positional arguments but 3 were given",
     "output_type": "error",
     "traceback": [
      "\u001b[1;31m---------------------------------------------------------------------------\u001b[0m",
      "\u001b[1;31mTypeError\u001b[0m                                 Traceback (most recent call last)",
      "Cell \u001b[1;32mIn[29], line 4\u001b[0m\n\u001b[0;32m      2\u001b[0m nonveg\u001b[38;5;241m=\u001b[39m\u001b[38;5;241m200\u001b[39m\n\u001b[0;32m      3\u001b[0m combo\u001b[38;5;241m=\u001b[39m\u001b[38;5;241m300\u001b[39m\n\u001b[1;32m----> 4\u001b[0m a\u001b[38;5;241m=\u001b[39m\u001b[38;5;28minput\u001b[39m(\u001b[38;5;124m\"\u001b[39m\u001b[38;5;124mEnter your meal type (veg or non veg or combo)\u001b[39m\u001b[38;5;124m\"\u001b[39m,veg)\n\u001b[0;32m      5\u001b[0m festival\u001b[38;5;241m=\u001b[39m\u001b[38;5;28minput\u001b[39m(\u001b[38;5;124m\"\u001b[39m\u001b[38;5;124mYes or No\u001b[39m\u001b[38;5;124m\"\u001b[39m)\n\u001b[0;32m      6\u001b[0m quantity\u001b[38;5;241m=\u001b[39m\u001b[38;5;28mint\u001b[39m(\u001b[38;5;28minput\u001b[39m(\u001b[38;5;124m\"\u001b[39m\u001b[38;5;124mEnter the quantity you want\u001b[39m\u001b[38;5;124m\"\u001b[39m))\n",
      "\u001b[1;31mTypeError\u001b[0m: Kernel.raw_input() takes from 1 to 2 positional arguments but 3 were given"
     ]
    }
   ],
   "source": [
    "veg=150\n",
    "nonveg=200\n",
    "combo=300\n",
    "a=input(\"Enter your meal type (veg or non veg or combo)\")\n",
    "festival=input(\"Yes or No\")\n",
    "quantity=int(input(\"Enter the quantity you want\"))\n",
    "price=a*quantity\n",
    "\n",
    "price"
   ]
  },
  {
   "cell_type": "code",
   "execution_count": 41,
   "id": "f800e95d-310f-41c8-b32a-1f91fdaa3df9",
   "metadata": {},
   "outputs": [
    {
     "ename": "SyntaxError",
     "evalue": "invalid non-printable character U+00A0 (2242645705.py, line 33)",
     "output_type": "error",
     "traceback": [
      "\u001b[1;36m  Cell \u001b[1;32mIn[41], line 33\u001b[1;36m\u001b[0m\n\u001b[1;33m    print(\"Total bill after 5% GST: ₹\", total_bill)\u001b[0m\n\u001b[1;37m                                       ^\u001b[0m\n\u001b[1;31mSyntaxError\u001b[0m\u001b[1;31m:\u001b[0m invalid non-printable character U+00A0\n"
     ]
    }
   ],
   "source": [
    "veg = 150\n",
    "nonveg = 200\n",
    "combo = 300\n",
    "\n",
    "mealtype = input(\"veg or non veg or combo: \")\n",
    "quantity = int(input(\"Quantity: \"))\n",
    "festival = int(input(\"Is there a festival? (1 for Yes, 0 for No): \"))\n",
    "\n",
    "if mealtype == \"veg\":\n",
    "    price = veg\n",
    "elif mealtype ==  mealtype == \"nonveg\":\n",
    "    price = nonveg\n",
    "elif mealtype == \"combo\":\n",
    "    price = combo\n",
    "else:\n",
    "    print(\"Invalid meal type\")\n",
    "    \n",
    "bill = price * quantity\n",
    "\n",
    "if festival == 1:\n",
    "    bill = bill - (bill * 10) / 100\n",
    "    print(\"10% festival discount applied.\")\n",
    "else:\n",
    "    print(\"No festival discount.\")\n",
    "\n",
    "if bill >= 1000:\n",
    "    print(\"You got a free dessert!\")\n",
    "\n",
    "\n",
    "gst = (bill * 5) / 100\n",
    "total_bill = bill + gst\n",
    "\n",
    "print(\"Total bill after 5% GST: ₹\", total_bill)"
   ]
  },
  {
   "cell_type": "code",
   "execution_count": 43,
   "id": "f5abe954-872b-4881-afd5-71263d540f88",
   "metadata": {},
   "outputs": [
    {
     "ename": "SyntaxError",
     "evalue": "invalid non-printable character U+00A0 (640041227.py, line 33)",
     "output_type": "error",
     "traceback": [
      "\u001b[1;36m  Cell \u001b[1;32mIn[43], line 33\u001b[1;36m\u001b[0m\n\u001b[1;33m    print(\"Total bill after 5% GST: ₹\", total_bill)\u001b[0m\n\u001b[1;37m                                       ^\u001b[0m\n\u001b[1;31mSyntaxError\u001b[0m\u001b[1;31m:\u001b[0m invalid non-printable character U+00A0\n"
     ]
    }
   ],
   "source": [
    "veg = 150\n",
    "nonveg = 200\n",
    "combo = 300\n",
    "\n",
    "mealtype = input(\"veg or non veg or combo: \")\n",
    "quantity = int(input(\"Quantity: \"))\n",
    "festival = int(input(\"Is there a festival? (1 for Yes, 0 for No): \"))\n",
    "\n",
    "if mealtype == \"veg\":\n",
    "    price = veg\n",
    "elif mealtype ==  mealtype == \"nonveg\":\n",
    "    price = nonveg\n",
    "elif mealtype == \"combo\":\n",
    "    price = combo\n",
    "else:\n",
    "    print(\"Invalid meal type\")\n",
    "    \n",
    "bill = price * quantity\n",
    "\n",
    "if festival == 1:\n",
    "    bill = bill - (bill * 10) / 100\n",
    "    print(\"10% festival discount applied.\")\n",
    "else:\n",
    "    print(\"No festival discount.\")\n",
    "\n",
    "if bill >= 1000:\n",
    "    print(\"You got a free dessert!\")\n",
    "\n",
    "\n",
    "gst = (bill * 5) / 100\n",
    "total_bill = bill + gst\n",
    "\n",
    "print(\"Total bill after 5% GST: ₹\", total_bill)\n",
    "\n"
   ]
  },
  {
   "cell_type": "code",
   "execution_count": null,
   "id": "28c28f4a-5489-4c08-a50c-cc3761b68dcf",
   "metadata": {},
   "outputs": [],
   "source": []
  }
 ],
 "metadata": {
  "kernelspec": {
   "display_name": "Python 3 (ipykernel)",
   "language": "python",
   "name": "python3"
  },
  "language_info": {
   "codemirror_mode": {
    "name": "ipython",
    "version": 3
   },
   "file_extension": ".py",
   "mimetype": "text/x-python",
   "name": "python",
   "nbconvert_exporter": "python",
   "pygments_lexer": "ipython3",
   "version": "3.12.4"
  }
 },
 "nbformat": 4,
 "nbformat_minor": 5
}
